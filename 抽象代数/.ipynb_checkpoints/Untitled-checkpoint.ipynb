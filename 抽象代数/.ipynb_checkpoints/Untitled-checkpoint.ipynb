{
 "cells": [
  {
   "cell_type": "markdown",
   "metadata": {},
   "source": [
    "南开大学 邓少强教授"
   ]
  },
  {
   "cell_type": "markdown",
   "metadata": {},
   "source": [
    "# 1 群"
   ]
  },
  {
   "cell_type": "markdown",
   "metadata": {},
   "source": [
    "## 1.1 运算及关系"
   ]
  },
  {
   "cell_type": "markdown",
   "metadata": {},
   "source": [
    "### 1.1.1 运算及关系1"
   ]
  },
  {
   "cell_type": "markdown",
   "metadata": {},
   "source": [
    "推荐图书  \n",
    "- 1《简明抽象代数》  顾沛、邓少强  高等教育出版社 2003 \n",
    "\\+ 多项式理论（第二章后面）  \n",
    "- 2《代数学基础》  孟道骥等  科学出版鹅黄色 2010年  \n",
    "群 模 Galois理论  \n",
    "- 3 N.Jacobson: Basic Algebra\n",
    "- 4 M.Artin"
   ]
  },
  {
   "cell_type": "markdown",
   "metadata": {},
   "source": [
    "代数方程的解的历史  \n",
    "$ax + b = 0$ 不需要什么研究  \n",
    "$ax^2 + bx + c = 0$ 古巴比伦，至少3000年前  \n",
    "三次、四次存在根式解，到了十六七世纪求出来了  \n",
    "公式太复杂了，没有特别具体的帮助，但是存在很重要  "
   ]
  },
  {
   "cell_type": "markdown",
   "metadata": {},
   "source": [
    "五次及以上的代数方程是否存在根式解？   \n",
    "- L.Euler 1707-1783 一生6000篇文章，做了研究没根本解决  - J.L.Lagrange 1736-1813 第一个假设了集合找根的变化，贡献很大  \n",
    "- C.F.Gauss 1777-1855 圆规直尺作图有很多工作  \n",
    "\n",
    "以上三人认为不存在统一的根式解  \n",
    "- N.H.Abel 1802-1829 也认为不存在根式解，找出了一类特殊方程可以用根式解\n",
    "- E.Galois 1811-1832 伽罗瓦19岁的时候就解决了，创立了伽罗瓦理论，做出了5次式不存在根式解的充分必要条件，这个理论创新性非常强，可以继续往下做下去 \n",
    "\n",
    "伽罗瓦第一次投稿到巴黎科学院，没人看懂就没审稿丢了，决斗前前夜他再次投稿到巴黎科学院，决斗去世后到了1846年才发表他的论文，直到C.Jordan介绍写清楚，在19世纪后半段得到快速的发展    "
   ]
  },
  {
   "cell_type": "markdown",
   "metadata": {},
   "source": [
    "SS1.1 运算及关系  \n",
    "讨论集合、映射，集合不给出定义但是会讨论性质，明确一个元素是不是属于这个集合"
   ]
  },
  {
   "cell_type": "markdown",
   "metadata": {},
   "source": [
    "### 1.1.2 运算及关系2"
   ]
  },
  {
   "cell_type": "markdown",
   "metadata": {},
   "source": [
    "> 定义1.1.1 设A0为A的子集，定义A0到A的映射$i: A_0 \\rightarrow A$使$i(x)=x, x\\in A_0$，称i为A0到A的嵌入映射"
   ]
  },
  {
   "cell_type": "markdown",
   "metadata": {},
   "source": [
    "这里虽然什么都没有做，只是给了记号，但是介绍了嵌入映射，这个很有用"
   ]
  },
  {
   "cell_type": "markdown",
   "metadata": {},
   "source": [
    "> 定义1.1.2 设A0为A的子集，f为A到B的映射，g为A0到B的映射，如果f(x)=g(x)，$\\forall x \\in A_0$，称f为g的开拓，g是f（在A0上）的限制，记为$g = f|_{A_0}$"
   ]
  },
  {
   "cell_type": "markdown",
   "metadata": {},
   "source": [
    "这也是个记号，需要指出一下"
   ]
  },
  {
   "cell_type": "markdown",
   "metadata": {},
   "source": [
    "交换图，如果有$f_1: A_1 \\rightarrow A_2$，$f_2: A_2 \\rightarrow A_3$，$f_3: A_3 \\rightarrow C$，那么$f_3f_2f_1: A_1 \\rightarrow C$，如果同时有$g_1: A_1 \\rightarrow B$，$g_2: B \\rightarrow C$，则有$g_2g_1: A_1 \\rightarrow C$，所以$f_3f_2f_1=g_2g_1$"
   ]
  },
  {
   "cell_type": "markdown",
   "metadata": {},
   "source": [
    "这个时候交换图比较方便和形象"
   ]
  },
  {
   "cell_type": "markdown",
   "metadata": {},
   "source": [
    "$\\require{AMScd}\n",
    "\\begin{CD}\n",
    "    A_1 @>f_1>> A_2 @>f_2>> A_3\\\\\n",
    "    @VV g_1 V @.  @VV c V\\\\\n",
    "    B @>>g_2> @>>> C\n",
    "\\end{CD}$"
   ]
  },
  {
   "cell_type": "markdown",
   "metadata": {},
   "source": [
    "Mamscd：https://www.jmilne.org/not/Mamscd.pdf  \n",
    "其中，@>>> 代表右箭头、@<<< 代表左箭头、@VVV 代表下箭头、@AAA 代表上箭头、@= 代表水平双实线、@| 代表竖直双实线、@.代表没有箭头。在 @>>> 的 >>> 之间任意插入文字即代表该箭头的注释文字。  \n",
    "latex：https://zhuanlan.zhihu.com/p/146546207"
   ]
  },
  {
   "cell_type": "markdown",
   "metadata": {},
   "source": [
    "![](./pics/例1交换图.png)"
   ]
  },
  {
   "cell_type": "markdown",
   "metadata": {},
   "source": [
    "定义 1.1.3 设A1，A2为两个集合，令$A_1 \\times A_2 = \\{(a, b)| a\\in A_1, b\\in A_2\\}$，集合$A_1 \\times A_2$称为A1与A2的直积，类似定义$A_1, A_2, \\dots, A_n$的直积"
   ]
  },
  {
   "cell_type": "markdown",
   "metadata": {},
   "source": [
    "___"
   ]
  },
  {
   "cell_type": "markdown",
   "metadata": {},
   "source": [
    "开始讲运算"
   ]
  },
  {
   "cell_type": "markdown",
   "metadata": {},
   "source": [
    "运算：加减乘除，其中减/除法相当于加/乘法的逆运算"
   ]
  },
  {
   "cell_type": "markdown",
   "metadata": {},
   "source": [
    "本质：两个元素 -> 一个元素  \n",
    "通过规定的法则让两个元素变成一个元素"
   ]
  },
  {
   "cell_type": "markdown",
   "metadata": {},
   "source": [
    ">定义1.1.4 设A B D为三个非空集合，一个映射$f: A \\times B\\rightarrow D$ 称为A与B到D的一个代数运算  "
   ]
  },
  {
   "cell_type": "markdown",
   "metadata": {},
   "source": [
    "例2:设V为一个线性空间，数域为P，V中的加法$V \\times V \\rightarrow V$，P与V的数乘：$P \\times V \\rightarrow  V$   \n",
    "\n",
    "解析：线性空间作为代数体系有两种运算，所有的代数体系都是在集合定义了代数运算后满足了规律，在线性空间里满足的规律是8条"
   ]
  },
  {
   "cell_type": "markdown",
   "metadata": {},
   "source": [
    "例3：P为数域，$P^{nxn}$为P上n阶方阵的集合，矩阵加法、乘法都是$P^{nxn}$与$P^{nxn}$到$P^{nxn}$的代数运算"
   ]
  },
  {
   "cell_type": "markdown",
   "metadata": {},
   "source": [
    "补充定义1.1.4：如果A B D都相同，代数运算f称为A上的二元运算，比如上面V和P"
   ]
  },
  {
   "cell_type": "markdown",
   "metadata": {},
   "source": [
    "二元运算用f符号不是很好，算4次就这么长了：$f(f(f(a, b), c), d)$  \n",
    "所以用$a \\circ b$或$ab$，所以上面的式子可以写成$abcd$（结合律）"
   ]
  },
  {
   "cell_type": "markdown",
   "metadata": {},
   "source": [
    "https://www.jianshu.com/p/22117d964baf"
   ]
  },
  {
   "cell_type": "markdown",
   "metadata": {},
   "source": [
    "http://mohu.org/info/symbols/symbols.htm"
   ]
  },
  {
   "cell_type": "markdown",
   "metadata": {},
   "source": [
    "研究代数就是研究运算规律"
   ]
  },
  {
   "cell_type": "markdown",
   "metadata": {},
   "source": [
    "> 定义1.1.5 设A上定义了二元运算，如果满足ab=ba，则$\\forall a, b \\in A$，称二元运算满足交换律"
   ]
  },
  {
   "cell_type": "markdown",
   "metadata": {},
   "source": [
    "> 定义1.1.6 设A上定义了二元运算，如果满足a(bc)=(ab)c，则$\\forall a, b, c \\in A$，称二元运算满足结合律"
   ]
  },
  {
   "cell_type": "markdown",
   "metadata": {},
   "source": [
    "> 定义1.1.7 设A上定义了两种二元运算$\\circ$和+，如果满足$a\\circ(b + c)=a\\circ b + a\\circ c$，则$\\forall a, b, c \\in A$，称满足$\\circ$ 对 + 的左分配律（也可以定义右分配律，后面都将简单地将其称为分配律）"
   ]
  },
  {
   "cell_type": "markdown",
   "metadata": {},
   "source": [
    "三种运算中交换律在群论中并不多，绝大多数群都不是交换的，比如$(ab)^n = a^nb^n$很难成立，但是基本上都是满足结合律和分配律的"
   ]
  },
  {
   "cell_type": "markdown",
   "metadata": {},
   "source": [
    "### 1.1.3 运算及关系3"
   ]
  },
  {
   "cell_type": "markdown",
   "metadata": {},
   "source": [
    "除了用$\\circ$ + · ab 之外，还可以用运算表表示$f: A\\times B \\rightarrow D$  \n",
    "对于|A|<∞，|B|<∞，$A=\\{a_1, a_2, \\dots, a_m\\}$，$B=\\{b_1, b_2, \\dots, b_n\\}$\n",
    "首先定义计算公式$\\circ$，如果对角线两侧对称，就证明满足交换律"
   ]
  },
  {
   "cell_type": "markdown",
   "metadata": {},
   "source": [
    "$\\begin{array}{c|c|c|c|c}\n",
    "\\text{$\\circ$} & \\text{$b_1$} & \\text{$b_2$} & \\text{$\\dots$} & \\text{$b_n$} \\\\\n",
    "\\hline\n",
    "\\text{$a_1$} & \\text{$a_1 \\circ b_1$} & \\text{$a_1 \\circ b_2$} & \\text{$\\dots$} & \\text{$a_1 \\circ b_n$} \\\\\n",
    "\\hline\n",
    "\\text{$a_2$} & \\text{$a_2 \\circ b_1$} & \\text{$a_2 \\circ b_2$} & \\text{$\\dots$} & \\text{$a_2 \\circ b_n$} \\\\\n",
    "\\hline\n",
    "\\text{$\\dots$} & \\text{$\\dots$} & \\text{$\\dots$} & \\text{$\\dots$} & \\text{$\\dots$} \\\\\n",
    "\\hline\n",
    "\\text{$a_m$} & \\text{$a_m \\circ b_1$} & \\text{$a_m \\circ b_2$} & \\text{$\\dots$} & \\text{$a_m \\circ b_n$} \\\\\n",
    "\\end{array}$"
   ]
  },
  {
   "cell_type": "markdown",
   "metadata": {},
   "source": [
    "例6 A={1, 2}，B={1, 2}，D={奇，偶}，定义$f: A\\times B \\rightarrow D$，$(1, 1)\\rightarrow 奇$，$(1, 2)\\rightarrow 偶$，$(2, 1)\\rightarrow 偶$，$(2, 2)\\rightarrow 奇$  \n",
    "\n",
    "$\\begin{array}{c|c|c}\n",
    "\\text{$\\circ$} & 1 & 2 \\\\\n",
    "\\hline\n",
    "1 & \\text{奇} & \\text{偶} \\\\\n",
    "\\hline\n",
    "2 & \\text{偶}& \\text{奇} \\\\\n",
    "\\end{array}$\n",
    "\n",
    "通过交换表可以看出其满足交换律"
   ]
  },
  {
   "cell_type": "markdown",
   "metadata": {},
   "source": [
    "构造新集合的方法——关系"
   ]
  },
  {
   "cell_type": "markdown",
   "metadata": {},
   "source": [
    "关系：非空集合A中一种对两个元素而言的一种性质，使A中任何两个元素或有这种性质，或者没有这种性质，二者必居其一，用R表示，a与b有关系R可以记为$aRb$，无关系R，记为$\\require{cancel}a\\cancel{R}b$"
   ]
  },
  {
   "cell_type": "markdown",
   "metadata": {},
   "source": [
    "如：A=R，存在关系> = <，使得$a, b \\in R$，A中关系将有关系的元素对构成$A\\times A$的子集$R = \\{(a, b)| aRb \\}$  反之$A\\times A$中的一个子集R，则可定义为关系R使$aRb \\Leftrightarrow (a, b) \\in R$"
   ]
  },
  {
   "cell_type": "markdown",
   "metadata": {},
   "source": [
    "note：为什么能在一个集合？肯定是因为某种关系的性质，所以关系也就是集合，集合也就是关系"
   ]
  },
  {
   "cell_type": "markdown",
   "metadata": {},
   "source": [
    "> 定义1.1.9 设$A \\neq \\emptyset $，A中一个关系为$A\\times A$的一个子集R"
   ]
  },
  {
   "cell_type": "markdown",
   "metadata": {},
   "source": [
    "例7 设A=R，考虑 ≤ ＝    \n",
    "解析：如果画线的话，\"≤\"对应的子集合在y=x上方包括线上的点，\"=\"是y=x直线上所有的点，并且观察到\"=\"是对称的，比如传递性a=b, b=c, a=c"
   ]
  },
  {
   "cell_type": "markdown",
   "metadata": {},
   "source": [
    "> 定义1.1.10 设$A \\neq \\emptyset $中定义了关系R，若R满足以下3个条件就称R为等价关系：  \n",
    "（1）反身性：$\\forall a \\in A$，$aRa$  \n",
    "（2）对称性：$aRb \\Rightarrow bRa$  \n",
    "（3）传递性：$aRb, bRc \\Rightarrow aRc$"
   ]
  },
  {
   "cell_type": "markdown",
   "metadata": {},
   "source": [
    "例7 ≤不是等价关系，因为没有对称性    \n",
    "\n",
    "例8 $P^{n\\times n}$中的相似关系为等价关系"
   ]
  },
  {
   "cell_type": "markdown",
   "metadata": {},
   "source": [
    "> 定义1.1.11 设$A\\neq \\emptyset$，A中的一个划分是指A中的一些子集合的集合，满足$\\forall a \\in A$，a包含而且质包含在一个自己和中。\n",
    "\n",
    "换而言之A中的一个划分就是将A写成一些不相交的非空子集之并：$A = \\bigcup_{i\\in I}A_i$，并且$\\forall i, A_i \\neq \\emptyset$，$\\forall i,j \\in I, i\\neq j, A_i\\bigcap A_j = \\emptyset$，从而构造了$\\{A_i\\}$新的集合，有时候也将A的一个划分称为A的一个分类"
   ]
  },
  {
   "cell_type": "markdown",
   "metadata": {},
   "source": [
    ">> 定理1.1.1 A的一个分类决定A中的一个等价关系"
   ]
  },
  {
   "cell_type": "markdown",
   "metadata": {},
   "source": [
    "因为是定理，所以要证明  \n",
    "证：设$A = \\bigcup_{i\\in I}A_i$，$\\forall i, A_i \\neq \\emptyset$，并且$\\forall i,j \\in I, i\\neq j, A_i\\bigcap A_j = \\emptyset$  \n",
    "定义关系R：$aRb \\Leftrightarrow \\exists i$，使$a,b\\in A_i$（a和b在同一个类里）  \n",
    "看三个条件：\n",
    "- 反身性，aRa肯定能推出aRa，自己和自己在一个类  \n",
    "- 对称性，aRb肯定能推出bRa，a和b在一个类里\n",
    "- 传递性，因为aRb、bRc，所以可以推出$\\exists i, a,b \\in A_i$，$\\exists j, b,c \\in A_j$，然后因为$A_i\\bigcap A_j \\neq \\emptyset$，因为存在b这个元素，所以i=j，因为分类的子集必须不相交，否则就是一个子集。所以$a, c \\in A_j$故aRc\n",
    "\n",
    "证明得到R为等价关系   \n",
    "\n",
    "弹幕妙评：妙的不是证明，而是等价关系的定义，不知道有多少逻辑语义的心血在里面"
   ]
  },
  {
   "cell_type": "markdown",
   "metadata": {},
   "source": [
    "### 1.1.4 运算及关系4"
   ]
  },
  {
   "cell_type": "markdown",
   "metadata": {},
   "source": [
    "A中的一个等价关系是否能决定A的一个分类？"
   ]
  },
  {
   "cell_type": "markdown",
   "metadata": {},
   "source": [
    "先做一些准备，等价关系可以推出：等价类、商集合、自然映射"
   ]
  },
  {
   "cell_type": "markdown",
   "metadata": {},
   "source": [
    "> 定义1.1.12 设$A\\neq \\emptyset$，A中有个一个等价关系R，$a \\in A$，定义a的等价类为$\\bar{a} = \\{b\\in A|aRb\\}$（或称为a所在的等价类），有的也记为[a]"
   ]
  },
  {
   "cell_type": "markdown",
   "metadata": {},
   "source": [
    "> 定义1.1.13 设$A\\neq \\emptyset$，A中有个一个等价关系R，定义$A/R = \\{\\bar{a}|a\\in A\\}$（重复的只取一个），称为A对R的商集合，/是模的符号"
   ]
  },
  {
   "cell_type": "markdown",
   "metadata": {},
   "source": [
    "> 定义1.1.14 映射$\\pi : A \\rightarrow A/R$，$\\pi(a) = \\bar{a}$，称为A到A/R的自然映射"
   ]
  },
  {
   "cell_type": "markdown",
   "metadata": {},
   "source": [
    ">> 定理1.1.2 A中的一个等价关系R决定A的一个分类  "
   ]
  },
  {
   "cell_type": "markdown",
   "metadata": {},
   "source": [
    "证：A/R就是A的一个分类，$\\forall \\bar{a} \\in A/R, \\bar{a} \\subseteq A, \\bar{a} \\neq \\emptyset$，$A=\\bigcup_{a\\in A}\\bar{a}$（重复的只取一个），设$\\bar{a}\\neq\\bar{b}$，反证若$\\bar{a}\\bigcap\\bar{b}\\neq\\emptyset$，取$c \\in \\bar{a}\\bigcap\\bar{b}$，则$c \\in \\bar{a}, aRc$（根据等价类的定义），$c \\in \\bar{b}, bRc$，由对称性得到bRc，cRa，再由传递性得到bRa，故$\\bar{a}=\\bar{b}$（可以理解成bar_a和bar_b里面任意的a和b都有R），矛盾，故$\\bar{a}\\neq\\bar{b}$，则$\\bar{a}\\bigcap\\bar{b}=\\emptyset$，故A/R为A的一个分类"
   ]
  },
  {
   "cell_type": "markdown",
   "metadata": {},
   "source": [
    "综合定理1.1.1和1.1.2，得知等价关系就是分类，后面不区分"
   ]
  },
  {
   "cell_type": "markdown",
   "metadata": {},
   "source": [
    "A定义了二元运算，等价关系R  \n",
    "代数体系就是集合加运算，所以要定义运算   \n",
    "但是这个等价关系必须要满足额外的条件，所谓同余关系  \n",
    "一个等价关系和运算联系起来需要满足的条件"
   ]
  },
  {
   "cell_type": "markdown",
   "metadata": {},
   "source": [
    "> 定义1.1.15 设$A\\neq \\emptyset$，A中定义了二元运算\"o\"，又定义了等价关系R，如果R与\"o\"满足条件：\n",
    "$a_1Rb_1, a_2Rb_2 \\Rightarrow a_1\\circ a_2 R b_1\\circ b_2$，则称R为\"o\"的同余关系"
   ]
  },
  {
   "cell_type": "markdown",
   "metadata": {},
   "source": [
    "如果R为\"o\"的同余关系，由于商集合都是集合不知道怎么运算，所以要把代表元拿出来，在A/R中定义$\\bar{a}\\bar{\\circ}\\bar{b} = \\overline{a\\circ b}$，$\\bar{a}$中可能有$c\\neq a$，$\\bar{b}$中可能存在$d\\neq b$，所以有$\\bar{c}\\bar{\\circ}\\bar{d} = \\overline{c\\circ d}$，因为取了不同的元素，所以可能$a\\circ b \\neq c\\circ d$，但是如果是同余关系，则$\\overline{a\\circ b} = \\overline{c\\circ d}$"
   ]
  },
  {
   "cell_type": "markdown",
   "metadata": {},
   "source": [
    "https://zhuanlan.zhihu.com/p/41136425"
   ]
  },
  {
   "cell_type": "markdown",
   "metadata": {},
   "source": [
    "**同余关系很重要的作用：构建代数体系**  \n",
    "A，\"o\"，等价关系R为\"o\"的同余关系  \n",
    "$\\{A; \\circ \\}$是一个代数体系，可以根据刚才的办法构造一个新的代数体系$\\{A/R; \\bar{\\circ}\\}$"
   ]
  },
  {
   "cell_type": "markdown",
   "metadata": {},
   "source": [
    "例10 设Z（整数的集合）中取m>0，定义关系R，$aRb\\Leftrightarrow m|b-a$（m能整除b-a），这确实是一个关系，要么能被整除要么不能被整除。Z中关系R为等价关系，称为模m的同余关系，aRb也被记为$a\\equiv b(mod m)$   \n",
    "Z中有+，x，R为\"+\"，\"x\"的同余关系"
   ]
  },
  {
   "cell_type": "markdown",
   "metadata": {},
   "source": [
    "例11 设$P^{nxn}$中定义关系R，$ARB\\Leftrightarrow |A|=|B|$，R为$P^{nxn}$中的等价关系   \n",
    "R对\"+\"不是同余关系  \n",
    "R对矩阵乘法是同余关系   \n",
    "如果做商集合的话，$p^{nxn}/R$，这个商集合并不大，大家想一想，会不会和数域一样大呢。矩阵乘法又是什么呢？"
   ]
  },
  {
   "cell_type": "code",
   "execution_count": null,
   "metadata": {},
   "outputs": [],
   "source": []
  }
 ],
 "metadata": {
  "kernelspec": {
   "display_name": "Python 3",
   "language": "python",
   "name": "python3"
  },
  "language_info": {
   "codemirror_mode": {
    "name": "ipython",
    "version": 3
   },
   "file_extension": ".py",
   "mimetype": "text/x-python",
   "name": "python",
   "nbconvert_exporter": "python",
   "pygments_lexer": "ipython3",
   "version": "3.7.3"
  }
 },
 "nbformat": 4,
 "nbformat_minor": 4
}
